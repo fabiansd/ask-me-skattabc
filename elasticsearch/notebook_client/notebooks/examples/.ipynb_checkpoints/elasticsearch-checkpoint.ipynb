{
 "cells": [
  {
   "cell_type": "markdown",
   "id": "57ab8377",
   "metadata": {},
   "source": [
    "# Elasticsearch"
   ]
  },
  {
   "cell_type": "code",
   "execution_count": null,
   "id": "77fb06f9",
   "metadata": {},
   "outputs": [],
   "source": [
    "import logging\n",
    "import os\n",
    "import sys\n",
    "\n",
    "from dotenv import load_dotenv\n",
    "\n",
    "load_dotenv(\"../../.env\", override=True)\n",
    "\n",
    "azure_openai_endpoint = os.environ[\"AZURE_OPENAI_SERVICE_BASEURL\"]\n",
    "azure_openai_key = os.environ[\"AZURE_OPENAI_SERVICE_TOKEN\"]\n",
    "azure_openai_version = os.environ[\"AZURE_OPENAI_SERVICE_API_VERSION\"]\n",
    "azure_openai_embedding_deployment_name = os.environ[\"AZURE_OPENAI_SERVICE_EMBEDDING_DEPLOYMENT\"]\n",
    "azure_openai_embedding_model_name = os.environ[\"AZURE_OPENAI_SERVICE_EMBEDDING_MODEL_NAME\"]\n",
    "azure_openai_chat_deployment_name = os.environ[\"AZURE_OPENAI_SERVICE_CHAT_DEPLOYMENT\"]\n",
    "azure_openai_chat_model_name = os.environ[\"AZURE_OPENAI_SERVICE_CHAT_MODEL_NAME\"]\n",
    "\n",
    "database_connection_string = os.environ[\"DATABASE_CONNECTION_STRING\"]\n",
    "\n",
    "logging.basicConfig(stream=sys.stdout, level=logging.INFO)\n",
    "logging.getLogger().addHandler(logging.StreamHandler(stream=sys.stdout))"
   ]
  },
  {
   "cell_type": "markdown",
   "id": "60cc87bc",
   "metadata": {},
   "source": [
    "## Configure Azure OpenAI models"
   ]
  },
  {
   "cell_type": "code",
   "execution_count": null,
   "id": "eb0c166f",
   "metadata": {},
   "outputs": [],
   "source": [
    "from llama_index.embeddings.azure_openai import AzureOpenAIEmbedding\n",
    "from llama_index.llms.azure_openai import AzureOpenAI\n",
    "from llama_index.core import Settings\n",
    "\n",
    "azure_openai_chat_model = AzureOpenAI(\n",
    "    model=azure_openai_chat_model_name,\n",
    "    deployment_name=azure_openai_chat_deployment_name,\n",
    "    api_key=azure_openai_key,\n",
    "    azure_endpoint=azure_openai_endpoint,\n",
    "    api_version=azure_openai_version,\n",
    ")\n",
    "\n",
    "azure_openai_embedding_model = AzureOpenAIEmbedding(\n",
    "    model=azure_openai_embedding_model_name,\n",
    "    deployment_name=azure_openai_embedding_deployment_name,\n",
    "    api_key=azure_openai_key,\n",
    "    azure_endpoint=azure_openai_endpoint,\n",
    "    api_version=azure_openai_version,\n",
    ")\n",
    "\n",
    "Settings.llm = azure_openai_chat_model\n",
    "Settings.embed_model = azure_openai_embedding_model"
   ]
  },
  {
   "cell_type": "markdown",
   "id": "66edd579",
   "metadata": {},
   "source": [
    "## Create vector store"
   ]
  },
  {
   "cell_type": "code",
   "execution_count": null,
   "id": "0062a89d",
   "metadata": {},
   "outputs": [],
   "source": [
    "from llama_index.vector_stores.elasticsearch import ElasticsearchStore\n",
    "\n",
    "vector_store = ElasticsearchStore(\n",
    "    index_name=\"index\", es_url=\"http://elasticsearch:9200\"\n",
    ")"
   ]
  },
  {
   "cell_type": "markdown",
   "id": "884f85a5",
   "metadata": {},
   "source": [
    "## Create pipeline"
   ]
  },
  {
   "cell_type": "code",
   "execution_count": null,
   "id": "49f7e1de",
   "metadata": {},
   "outputs": [],
   "source": [
    "from llama_index.core import SimpleDirectoryReader\n",
    "from llama_index.core.ingestion import IngestionPipeline\n",
    "from llama_index.core.node_parser import SentenceSplitter\n",
    "\n",
    "pipeline = IngestionPipeline(\n",
    "    transformations=[\n",
    "        SentenceSplitter(chunk_size=2000, chunk_overlap=500),\n",
    "        azure_openai_embedding_model,\n",
    "    ],\n",
    "    vector_store=vector_store,\n",
    ")\n",
    "\n",
    "pipeline.run(documents=SimpleDirectoryReader(\"../../data/raw/\").load_data())"
   ]
  },
  {
   "cell_type": "markdown",
   "id": "5fcae934",
   "metadata": {},
   "source": [
    "## Create search engines"
   ]
  },
  {
   "cell_type": "code",
   "execution_count": null,
   "id": "c2fec690",
   "metadata": {},
   "outputs": [],
   "source": [
    "from llama_index.core import VectorStoreIndex\n",
    "\n",
    "index = VectorStoreIndex.from_vector_store(\n",
    "    vector_store=vector_store,\n",
    ")\n",
    "\n",
    "retriever_engine = index.as_retriever()\n",
    "retriever_hybrid_engine = index.as_retriever(vector_store_query_mode=\"hybrid\", sparse_top_k=3)"
   ]
  },
  {
   "cell_type": "markdown",
   "id": "4ca8024e",
   "metadata": {},
   "source": [
    "## Retrieve using vector search"
   ]
  },
  {
   "cell_type": "code",
   "execution_count": null,
   "id": "7373367f",
   "metadata": {},
   "outputs": [],
   "source": [
    "result = retriever_engine.retrieve(\"Hva er fartsgrensen i boliggater?\")"
   ]
  },
  {
   "cell_type": "code",
   "execution_count": null,
   "id": "cef7fec5",
   "metadata": {},
   "outputs": [],
   "source": [
    "# First result\n",
    "print(result[0].text)"
   ]
  },
  {
   "cell_type": "markdown",
   "id": "b495c86b",
   "metadata": {},
   "source": [
    "## Query using hybrid search\n",
    "Denne kommer til å feile fordi vi ikke har Elasticsearch premium"
   ]
  },
  {
   "cell_type": "code",
   "execution_count": null,
   "id": "71c2e5d6",
   "metadata": {},
   "outputs": [],
   "source": [
    "#response = retriever_hybrid_engine.retrieve(\"Hva er fartsgrensen i boliggater?\")"
   ]
  },
  {
   "cell_type": "markdown",
   "id": "e7d0f31e",
   "metadata": {},
   "source": [
    "## Query using HNSW EF Search"
   ]
  },
  {
   "cell_type": "code",
   "execution_count": null,
   "id": "22469e4b",
   "metadata": {},
   "outputs": [],
   "source": [
    "# TODO Investigate how to use"
   ]
  },
  {
   "cell_type": "markdown",
   "id": "3375a841",
   "metadata": {},
   "source": [
    "## Query using ES client"
   ]
  },
  {
   "cell_type": "code",
   "execution_count": null,
   "id": "3ad29619",
   "metadata": {},
   "outputs": [],
   "source": [
    "from elasticsearch import Elasticsearch\n",
    "\n",
    "es = Elasticsearch(\"http://elasticsearch:9200\")"
   ]
  },
  {
   "cell_type": "markdown",
   "id": "fdc29b21",
   "metadata": {},
   "source": [
    "### Keyword search"
   ]
  },
  {
   "cell_type": "code",
   "execution_count": null,
   "id": "8a5f4553",
   "metadata": {},
   "outputs": [],
   "source": [
    "response_keyword = es.search(\n",
    "    index=\"kibok-index\",\n",
    "    query={\n",
    "        \"match\": {\n",
    "            \"content\": {\n",
    "                \"query\": \"fasaderekker\",\n",
    "                \"boost\": 0.9\n",
    "            }\n",
    "        }\n",
    "    },\n",
    "    size=5,\n",
    "    fields=[\"content\"],\n",
    "    _source=False\n",
    ")\n"
   ]
  },
  {
   "cell_type": "code",
   "execution_count": null,
   "id": "53522fa4",
   "metadata": {},
   "outputs": [],
   "source": [
    "print(response_keyword)"
   ]
  },
  {
   "cell_type": "markdown",
   "id": "e6533345",
   "metadata": {},
   "source": [
    "### Vector search"
   ]
  },
  {
   "cell_type": "code",
   "execution_count": null,
   "id": "ab8a0fca",
   "metadata": {},
   "outputs": [],
   "source": [
    "query_embedding = azure_openai_embedding_model.get_text_embedding(\"Fartgrense i tettbebygd strøk\")"
   ]
  },
  {
   "cell_type": "code",
   "execution_count": null,
   "id": "4cffeec5",
   "metadata": {},
   "outputs": [],
   "source": [
    "response_vector = es.search(\n",
    "    index=\"kibok-index\",\n",
    "    query={\n",
    "        \"knn\": {\n",
    "            \"field\": \"embedding\",  # Ensure this matches the name of your dense_vector field\n",
    "            \"query_vector\": query_embedding,\n",
    "            \"num_candidates\": 50,  # This is optional but can help with performance/accuracy trade-offs\n",
    "            \"boost\": 0.1,\n",
    "        }\n",
    "    },\n",
    "    fields=[\"content\"],\n",
    "    _source=False,\n",
    ")"
   ]
  },
  {
   "cell_type": "code",
   "execution_count": null,
   "id": "86385c20",
   "metadata": {},
   "outputs": [],
   "source": [
    "print(response_vector)"
   ]
  },
  {
   "cell_type": "markdown",
   "id": "9cf83825",
   "metadata": {},
   "source": [
    "### Hybrid søk"
   ]
  },
  {
   "cell_type": "code",
   "execution_count": null,
   "id": "3d40bd5f",
   "metadata": {},
   "outputs": [],
   "source": [
    "query_hybrid_embedding = azure_openai_embedding_model.get_text_embedding(\"Hva er ÅDT for sambruksområder\")\n",
    "query_hybrid_keyword = \"sambruksområder\""
   ]
  },
  {
   "cell_type": "code",
   "execution_count": null,
   "id": "910be32c",
   "metadata": {},
   "outputs": [],
   "source": [
    "response_hybrid = es.search(\n",
    "    index=\"kibok-index\",\n",
    "    query={\n",
    "        \"match\": {\"content\": {\"query\": query_hybrid_keyword, \"boost\": 0.9}},\n",
    "    },\n",
    "    knn={\n",
    "        \"field\": \"embedding\",\n",
    "        \"query_vector\": query_hybrid_embedding,\n",
    "        \"k\": 5,\n",
    "        \"num_candidates\": 50,\n",
    "        \"boost\": 0.1,\n",
    "    },\n",
    "    fields=[\"content\"],\n",
    "    _source=False,\n",
    ")"
   ]
  },
  {
   "cell_type": "code",
   "execution_count": null,
   "id": "977d0b48",
   "metadata": {},
   "outputs": [],
   "source": [
    "response_hybrid"
   ]
  }
 ],
 "metadata": {
  "jupytext": {
   "formats": "ipynb,md"
  },
  "kernelspec": {
   "display_name": "data-processing-5zNbcVi4-py3.11",
   "language": "python",
   "name": "python3"
  }
 },
 "nbformat": 4,
 "nbformat_minor": 5
}
