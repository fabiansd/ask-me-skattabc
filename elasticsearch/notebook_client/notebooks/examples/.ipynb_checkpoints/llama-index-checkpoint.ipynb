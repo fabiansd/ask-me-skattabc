{
 "cells": [
  {
   "cell_type": "markdown",
   "metadata": {},
   "source": [
    "# Llama-index"
   ]
  },
  {
   "cell_type": "code",
   "execution_count": null,
   "metadata": {},
   "outputs": [],
   "source": [
    "import logging\n",
    "import os\n",
    "import sys\n",
    "\n",
    "from dotenv import load_dotenv\n",
    "\n",
    "load_dotenv(\"../../.env\", override=True)\n",
    "\n",
    "azure_openai_endpoint = os.environ[\"AZURE_OPENAI_SERVICE_BASEURL\"]\n",
    "azure_openai_key = os.environ[\"AZURE_OPENAI_SERVICE_TOKEN\"]\n",
    "azure_openai_version = os.environ[\"AZURE_OPENAI_SERVICE_API_VERSION\"]\n",
    "azure_openai_embedding_deployment_name = os.environ[\"AZURE_OPENAI_SERVICE_EMBEDDING_DEPLOYMENT\"]\n",
    "azure_openai_embedding_model_name = os.environ[\"AZURE_OPENAI_SERVICE_EMBEDDING_MODEL_NAME\"]\n",
    "azure_openai_chat_deployment_name = os.environ[\"AZURE_OPENAI_SERVICE_CHAT_DEPLOYMENT\"]\n",
    "azure_openai_chat_model_name = os.environ[\"AZURE_OPENAI_SERVICE_CHAT_MODEL_NAME\"]\n",
    "\n",
    "database_connection_string = os.environ[\"DATABASE_CONNECTION_STRING\"]\n",
    "\n",
    "logging.basicConfig(stream=sys.stdout, level=logging.INFO)\n",
    "logging.getLogger().addHandler(logging.StreamHandler(stream=sys.stdout))"
   ]
  },
  {
   "cell_type": "markdown",
   "metadata": {},
   "source": [
    "## Configure Azure OpenAI models"
   ]
  },
  {
   "cell_type": "code",
   "execution_count": null,
   "metadata": {},
   "outputs": [],
   "source": [
    "from llama_index import ServiceContext, set_global_service_context\n",
    "from llama_index.embeddings import AzureOpenAIEmbedding\n",
    "from llama_index.llms import AzureOpenAI\n",
    "\n",
    "azure_openai_chat_model = AzureOpenAI(\n",
    "    model=azure_openai_chat_model_name,\n",
    "    deployment_name=azure_openai_chat_deployment_name,\n",
    "    api_key=azure_openai_key,\n",
    "    azure_endpoint=azure_openai_endpoint,\n",
    "    api_version=azure_openai_version,\n",
    ")\n",
    "\n",
    "azure_openai_embedding_model = AzureOpenAIEmbedding(\n",
    "    model=azure_openai_embedding_model_name,\n",
    "    deployment_name=azure_openai_embedding_deployment_name,\n",
    "    api_key=azure_openai_key,\n",
    "    azure_endpoint=azure_openai_endpoint,\n",
    "    api_version=azure_openai_version,\n",
    ")\n",
    "\n",
    "service_context = ServiceContext.from_defaults(\n",
    "    llm=azure_openai_chat_model,\n",
    "    embed_model=azure_openai_embedding_model,\n",
    ")\n",
    "\n",
    "set_global_service_context(service_context)\n"
   ]
  },
  {
   "cell_type": "markdown",
   "metadata": {},
   "source": [
    "## Create vector store"
   ]
  },
  {
   "cell_type": "code",
   "execution_count": null,
   "metadata": {},
   "outputs": [],
   "source": [
    "from llama_index import VectorStoreIndex\n",
    "from llama_index.vector_stores import PGVectorStore\n",
    "from sqlalchemy import make_url\n",
    "\n",
    "url = make_url(database_connection_string)\n",
    "vector_store = PGVectorStore.from_params(\n",
    "    database=\"rag-db\",\n",
    "    host=url.host,\n",
    "    password=url.password,\n",
    "    port=url.port,\n",
    "    user=url.username,\n",
    "    table_name=\"handboker-vector-hybrid\",\n",
    "    embed_dim=1536,  # openai embedding dimension\n",
    "    hybrid_search=True,\n",
    "    text_search_config=\"norwegian\",\n",
    ")"
   ]
  },
  {
   "cell_type": "markdown",
   "metadata": {},
   "source": [
    "## Create pipelinea"
   ]
  },
  {
   "cell_type": "code",
   "execution_count": null,
   "metadata": {},
   "outputs": [],
   "source": [
    "from llama_index import SimpleDirectoryReader\n",
    "from llama_index.ingestion import IngestionPipeline\n",
    "from llama_index.storage.docstore import (\n",
    "    SimpleDocumentStore,  # TODO Need to investigate how this works\n",
    ")\n",
    "from llama_index.text_splitter import SentenceSplitter\n",
    "\n",
    "pipeline = IngestionPipeline(\n",
    "    transformations=[\n",
    "        SentenceSplitter(chunk_size=2000, chunk_overlap=500),\n",
    "        azure_openai_embedding_model,\n",
    "    ],\n",
    "    vector_store=vector_store,\n",
    "    docstore=SimpleDocumentStore()\n",
    ")\n",
    "\n",
    "pipeline.run(documents=SimpleDirectoryReader(\"../data/raw/\").load_data())"
   ]
  },
  {
   "cell_type": "markdown",
   "metadata": {},
   "source": [
    "## Create search engines"
   ]
  },
  {
   "cell_type": "code",
   "execution_count": null,
   "metadata": {},
   "outputs": [],
   "source": [
    "index = VectorStoreIndex.from_vector_store(\n",
    "    vector_store=vector_store,\n",
    "    service_context=service_context,\n",
    ")\n",
    "\n",
    "query_engine = index.as_query_engine()\n",
    "retriever_engine = index.as_retriever()\n",
    "retriever_hybrid_engine = index.as_retriever(\n",
    "    vector_store_query_mode=\"hybrid\", sparse_top_k=3\n",
    ")"
   ]
  },
  {
   "cell_type": "markdown",
   "metadata": {},
   "source": [
    "## Retrieve using vector search"
   ]
  },
  {
   "cell_type": "code",
   "execution_count": null,
   "metadata": {},
   "outputs": [],
   "source": [
    "result = retriever_engine.retrieve(\"Hva er fartsgrensen i boliggater?\")"
   ]
  },
  {
   "cell_type": "code",
   "execution_count": null,
   "metadata": {},
   "outputs": [],
   "source": [
    "# First result\n",
    "print(result[0].text)"
   ]
  },
  {
   "cell_type": "markdown",
   "metadata": {},
   "source": [
    "## Query using vector search"
   ]
  },
  {
   "cell_type": "code",
   "execution_count": null,
   "metadata": {},
   "outputs": [],
   "source": [
    "print(query_engine.query(\"Hva er fartsgrensen i boliggater?\"))"
   ]
  },
  {
   "cell_type": "markdown",
   "metadata": {},
   "source": [
    "## Query using hybrid search"
   ]
  },
  {
   "cell_type": "code",
   "execution_count": null,
   "metadata": {},
   "outputs": [],
   "source": [
    "response = retriever_hybrid_engine.retrieve(\"Hva er fartsgrensen i boliggater?\")"
   ]
  },
  {
   "cell_type": "code",
   "execution_count": null,
   "metadata": {},
   "outputs": [],
   "source": [
    "print(response)\n",
    "print(response[0].text)"
   ]
  },
  {
   "cell_type": "markdown",
   "metadata": {},
   "source": [
    "## Query using HNSW EF Search"
   ]
  },
  {
   "cell_type": "code",
   "execution_count": null,
   "metadata": {},
   "outputs": [],
   "source": [
    "# TODO Investigate how to use"
   ]
  }
 ],
 "metadata": {
  "kernelspec": {
   "display_name": "data-processing-5zNbcVi4-py3.11",
   "language": "python",
   "name": "python3"
  },
  "language_info": {
   "codemirror_mode": {
    "name": "ipython",
    "version": 3
   },
   "file_extension": ".py",
   "mimetype": "text/x-python",
   "name": "python",
   "nbconvert_exporter": "python",
   "pygments_lexer": "ipython3",
   "version": "3.11.7"
  }
 },
 "nbformat": 4,
 "nbformat_minor": 2
}
